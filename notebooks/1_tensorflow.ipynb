{
 "cells": [
  {
   "cell_type": "markdown",
   "metadata": {},
   "source": [
    "# 3.1 TensorFlow 计算模型——计算图"
   ]
  },
  {
   "cell_type": "markdown",
   "metadata": {},
   "source": [
    "## 3.1.2 计算图的使用"
   ]
  },
  {
   "cell_type": "code",
   "execution_count": 21,
   "metadata": {},
   "outputs": [
    {
     "data": {
      "text/plain": [
       "array([ 3.,  5.], dtype=float32)"
      ]
     },
     "execution_count": 21,
     "metadata": {},
     "output_type": "execute_result"
    }
   ],
   "source": [
    "import tensorflow as tf\n",
    "\n",
    "a = tf.constant([1.0, 2.0], name=\"a\")\n",
    "b = tf.constant([2.0, 3.0], name=\"b\")\n",
    "result = a + b\n",
    "\n",
    "sess = tf.Session()\n",
    "sess.run(result)"
   ]
  },
  {
   "cell_type": "code",
   "execution_count": 22,
   "metadata": {},
   "outputs": [
    {
     "name": "stdout",
     "output_type": "stream",
     "text": [
      "True\n"
     ]
    }
   ],
   "source": [
    "# 获取当前默认的计算图。\n",
    "print(a.graph is tf.get_default_graph()) "
   ]
  },
  {
   "cell_type": "code",
   "execution_count": 23,
   "metadata": {},
   "outputs": [
    {
     "name": "stdout",
     "output_type": "stream",
     "text": [
      "1.4.1\n",
      "['/usr/local/lib/python2.7/dist-packages/tensorflow']\n",
      "[ 0.]\n",
      "[ 1.]\n"
     ]
    }
   ],
   "source": [
    "# 使用Graph生成新的计算图。不同计算图上的张量和运算不会共享\n",
    "import tensorflow as tf\n",
    "\n",
    "print(tf.__version__)\n",
    "print(tf.__path__)\n",
    "\n",
    "g1 = tf.Graph()\n",
    "with g1.as_default():\n",
    "    # 0.9.0版本可用，新版本报错：TypeError: __init__() got an unexpected keyword argument 'shape'\n",
    "#     v = tf.get_variable(\"v\", initializer=tf.zeros_initializer(shape=[1])) \n",
    "    v = tf.get_variable(\"v\", initializer=tf.zeros_initializer()(shape=[1])) # 初始化为0\n",
    "    \n",
    "g2 = tf.Graph()\n",
    "with g2.as_default():\n",
    "    v= tf.get_variable(\"v\", initializer=tf.ones_initializer()(shape=[1])) # 初始化为1\n",
    "\n",
    "with tf.Session(graph=g1) as sess:\n",
    "    tf.initialize_all_variables().run() \n",
    "    with tf.variable_scope(\"\", reuse=True):\n",
    "        print(sess.run(tf.get_variable(\"v\")))\n",
    "        \n",
    "with tf.Session(graph=g2) as sess:\n",
    "    # WARNING: use tf.global_variables_initializer instead\n",
    "#     tf.initialize_all_variables().run()\n",
    "    init = tf.global_variables_initializer()\n",
    "    sess.run(init)\n",
    "    with tf.variable_scope(\"\", reuse=True):\n",
    "        print(sess.run(tf.get_variable(\"v\")))"
   ]
  },
  {
   "cell_type": "code",
   "execution_count": 24,
   "metadata": {},
   "outputs": [
    {
     "name": "stdout",
     "output_type": "stream",
     "text": [
      "Tensor(\"add_4:0\", shape=(2,), dtype=float32)\n"
     ]
    }
   ],
   "source": [
    "# 指定运行设备\n",
    "g = tf.Graph()\n",
    "with g.device(\"/gpu:0\"):\n",
    "    result = a + b\n",
    "    print(result)"
   ]
  },
  {
   "cell_type": "markdown",
   "metadata": {},
   "source": [
    "## 3.2 TensorFlow 数据模型——张量"
   ]
  },
  {
   "cell_type": "code",
   "execution_count": 25,
   "metadata": {},
   "outputs": [
    {
     "name": "stdout",
     "output_type": "stream",
     "text": [
      "Tensor(\"result:0\", shape=(2,), dtype=float32)\n"
     ]
    }
   ],
   "source": [
    "import tensorflow as tf\n",
    "a = tf.constant([1.0, 2.0], name=\"a\")\n",
    "b = tf.constant([2.0, 3.0], name=\"b\")\n",
    "result = tf.add(a, b, name=\"result\")\n",
    "print(result) # 名字、维度、类型"
   ]
  },
  {
   "cell_type": "code",
   "execution_count": 32,
   "metadata": {},
   "outputs": [],
   "source": [
    "# a = tf.constant([1, 2], name=\"a\")\n",
    "a = tf.constant([1, 2], name=\"a\", dtype=tf.float32)\n",
    "b = tf.constant([2.0, 3.0], name=\"b\") \n",
    "\n",
    "# ValueError: Tensor conversion requested dtype int32 for Tensor with dtype float32:'Tensor(\"b_3:0\", shape=(2,), dtype=float32)'\n",
    "result = a + b"
   ]
  },
  {
   "cell_type": "markdown",
   "metadata": {},
   "source": [
    "## 3.3 TensorFlow 运行模型——会话"
   ]
  },
  {
   "cell_type": "code",
   "execution_count": 29,
   "metadata": {},
   "outputs": [
    {
     "name": "stdout",
     "output_type": "stream",
     "text": [
      "[ 3.  5.]\n"
     ]
    }
   ],
   "source": [
    "sess = tf.Session()\n",
    "with sess.as_default(): # 设置默认会话\n",
    "    print(result.eval()) "
   ]
  },
  {
   "cell_type": "code",
   "execution_count": 33,
   "metadata": {},
   "outputs": [
    {
     "name": "stdout",
     "output_type": "stream",
     "text": [
      "[ 3.  5.]\n",
      "[ 3.  5.]\n"
     ]
    }
   ],
   "source": [
    "sess = tf.Session()\n",
    "print(sess.run(result))\n",
    "print(result.eval(session=sess)) # 指定会话"
   ]
  },
  {
   "cell_type": "code",
   "execution_count": 34,
   "metadata": {},
   "outputs": [
    {
     "name": "stdout",
     "output_type": "stream",
     "text": [
      "[ 3.  5.]\n"
     ]
    }
   ],
   "source": [
    "sess = tf.InteractiveSession() # 直接构建默认会话\n",
    "print(result.eval())\n",
    "sess.close()"
   ]
  },
  {
   "cell_type": "code",
   "execution_count": null,
   "metadata": {},
   "outputs": [],
   "source": [
    "# 配置会话，设置不支持GPU时自动调整到CPU，日志中记录每个节点被安排了哪个设备\n",
    "config = tf.ConfigProto(allow_soft_placement=True,log_device_placement=True)\n",
    "sess1 = tf.InteractiveSession(config=config)\n",
    "sess2 = tf.Session(config=config)"
   ]
  }
 ],
 "metadata": {
  "kernelspec": {
   "display_name": "Python 3",
   "language": "python",
   "name": "python3"
  },
  "language_info": {
   "codemirror_mode": {
    "name": "ipython",
    "version": 2
   },
   "file_extension": ".py",
   "mimetype": "text/x-python",
   "name": "python",
   "nbconvert_exporter": "python",
   "pygments_lexer": "ipython2",
   "version": "2.7.12"
  }
 },
 "nbformat": 4,
 "nbformat_minor": 2
}
